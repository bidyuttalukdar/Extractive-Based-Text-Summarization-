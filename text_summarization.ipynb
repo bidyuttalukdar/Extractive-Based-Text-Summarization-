{
  "nbformat": 4,
  "nbformat_minor": 0,
  "metadata": {
    "colab": {
      "name": "text_summarization.ipynb",
      "provenance": [],
      "collapsed_sections": [],
      "mount_file_id": "17yq2TudbiQdgKFdqwRlq8PsMtketiQjG",
      "authorship_tag": "ABX9TyMYL79ymbKuTLBUm2mBXtMx",
      "include_colab_link": true
    },
    "kernelspec": {
      "name": "python3",
      "display_name": "Python 3"
    },
    "language_info": {
      "name": "python"
    }
  },
  "cells": [
    {
      "cell_type": "markdown",
      "metadata": {
        "id": "view-in-github",
        "colab_type": "text"
      },
      "source": [
        "<a href=\"https://colab.research.google.com/github/tikubidyuthere/Extractive-Based-Text-Summarization-/blob/main/text_summarization.ipynb\" target=\"_parent\"><img src=\"https://colab.research.google.com/assets/colab-badge.svg\" alt=\"Open In Colab\"/></a>"
      ]
    },
    {
      "cell_type": "markdown",
      "metadata": {
        "id": "Y_8GH_NDF1j5"
      },
      "source": [
        "importing libearies and downloading required NLP files"
      ]
    },
    {
      "cell_type": "code",
      "metadata": {
        "colab": {
          "base_uri": "https://localhost:8080/"
        },
        "id": "ySv-5gsVFxkG",
        "outputId": "02f311e6-ecaf-4db4-8864-6f8e6ae5d1ea"
      },
      "source": [
        "import re\n",
        "import nltk\n",
        "import string\n",
        "\n",
        "nltk.download('punkt')\n",
        "nltk.download('stopwords')\n",
        "stopwords=nltk.corpus.stopwords.words('english')\n",
        "print(stopwords)"
      ],
      "execution_count": null,
      "outputs": [
        {
          "output_type": "stream",
          "text": [
            "[nltk_data] Downloading package punkt to /root/nltk_data...\n",
            "[nltk_data]   Unzipping tokenizers/punkt.zip.\n",
            "[nltk_data] Downloading package stopwords to /root/nltk_data...\n",
            "[nltk_data]   Unzipping corpora/stopwords.zip.\n",
            "['i', 'me', 'my', 'myself', 'we', 'our', 'ours', 'ourselves', 'you', \"you're\", \"you've\", \"you'll\", \"you'd\", 'your', 'yours', 'yourself', 'yourselves', 'he', 'him', 'his', 'himself', 'she', \"she's\", 'her', 'hers', 'herself', 'it', \"it's\", 'its', 'itself', 'they', 'them', 'their', 'theirs', 'themselves', 'what', 'which', 'who', 'whom', 'this', 'that', \"that'll\", 'these', 'those', 'am', 'is', 'are', 'was', 'were', 'be', 'been', 'being', 'have', 'has', 'had', 'having', 'do', 'does', 'did', 'doing', 'a', 'an', 'the', 'and', 'but', 'if', 'or', 'because', 'as', 'until', 'while', 'of', 'at', 'by', 'for', 'with', 'about', 'against', 'between', 'into', 'through', 'during', 'before', 'after', 'above', 'below', 'to', 'from', 'up', 'down', 'in', 'out', 'on', 'off', 'over', 'under', 'again', 'further', 'then', 'once', 'here', 'there', 'when', 'where', 'why', 'how', 'all', 'any', 'both', 'each', 'few', 'more', 'most', 'other', 'some', 'such', 'no', 'nor', 'not', 'only', 'own', 'same', 'so', 'than', 'too', 'very', 's', 't', 'can', 'will', 'just', 'don', \"don't\", 'should', \"should've\", 'now', 'd', 'll', 'm', 'o', 're', 've', 'y', 'ain', 'aren', \"aren't\", 'couldn', \"couldn't\", 'didn', \"didn't\", 'doesn', \"doesn't\", 'hadn', \"hadn't\", 'hasn', \"hasn't\", 'haven', \"haven't\", 'isn', \"isn't\", 'ma', 'mightn', \"mightn't\", 'mustn', \"mustn't\", 'needn', \"needn't\", 'shan', \"shan't\", 'shouldn', \"shouldn't\", 'wasn', \"wasn't\", 'weren', \"weren't\", 'won', \"won't\", 'wouldn', \"wouldn't\"]\n"
          ],
          "name": "stdout"
        }
      ]
    },
    {
      "cell_type": "markdown",
      "metadata": {
        "id": "O93H77jHH1u3"
      },
      "source": [
        "stroing the text need to sumarize into a varible"
      ]
    },
    {
      "cell_type": "code",
      "metadata": {
        "id": "jpvMkaFGGiti"
      },
      "source": [
        "original_text='''Most teenagers from this generation have the habit of staying up late, one night before the exam to overstuff their minds by memorising information.\n",
        "\n",
        "However, research in a new study suggests that doing this has the opposite effect. It does not give the brain adequate time to store the knowledge and let it sink in.As a result, sleep deprivation results in lower exam scores, according to researchers from Loyola Marymount University, California. New memories are only retained by the brain, if ‘consolidated’, which happens during sleep.\n",
        "\n",
        "Scientists have suggested that napping has the power to boost memory after studying and have examined that newly learnt facts retained better after a nap. “We demonstrated the importance of obtaining sleep soon after learning for superior consolidation of emotional memories, an effect that was robustly seen across young and, for the first time, middle-aged adults.”, said Sara Alger, of Notre Dame University, Indiana. '''\n",
        "\n",
        "\n",
        "\n"
      ],
      "execution_count": null,
      "outputs": []
    },
    {
      "cell_type": "markdown",
      "metadata": {
        "id": "IEhxx0_JICJH"
      },
      "source": [
        "Text Preprocessing to remove stopwrods,spaces, punctuation etc... "
      ]
    },
    {
      "cell_type": "code",
      "metadata": {
        "id": "ys3E-lqBIAvW"
      },
      "source": [
        "original_text=re.sub(r'\\s+',' ',original_text)\n",
        "\n",
        "def preprocess(text):\n",
        "  formatted_text=text.lower()\n",
        "  tokens=[]\n",
        "  for token in nltk.word_tokenize(formatted_text):\n",
        "    tokens.append(token)\n",
        "  tokens=[word for word in tokens if word not in stopwords and word not in string.punctuation]\n",
        "  formatted_text=' '.join(word for word in tokens)\n",
        "  return formatted_text\n",
        "\n",
        "formatted_text=preprocess(original_text)\n",
        "#print(formatted_text)"
      ],
      "execution_count": null,
      "outputs": []
    },
    {
      "cell_type": "markdown",
      "metadata": {
        "id": "SJZx4yl-KLz9"
      },
      "source": [
        "finding word frequency and weight of each word"
      ]
    },
    {
      "cell_type": "code",
      "metadata": {
        "colab": {
          "base_uri": "https://localhost:8080/"
        },
        "id": "tJ2YaKW5KYv4",
        "outputId": "414df830-80d7-4d1f-d545-55b51994f840"
      },
      "source": [
        "word_frequency=nltk.FreqDist(nltk.word_tokenize(formatted_text.lower()))\n",
        "\n",
        "most_frequent_word_count=max(word_frequency.values())\n",
        "for word in word_frequency.keys():\n",
        "  word_frequency[word]=(word_frequency[word])/most_frequent_word_count\n",
        "word_frequency"
      ],
      "execution_count": null,
      "outputs": [
        {
          "output_type": "execute_result",
          "data": {
            "text/plain": [
              "FreqDist({'.': 0.3333333333333333,\n",
              "          'according': 0.3333333333333333,\n",
              "          'across': 0.3333333333333333,\n",
              "          'adequate': 0.3333333333333333,\n",
              "          'adults': 0.3333333333333333,\n",
              "          'alger': 0.3333333333333333,\n",
              "          'better': 0.3333333333333333,\n",
              "          'boost': 0.3333333333333333,\n",
              "          'brain': 0.6666666666666666,\n",
              "          'california': 0.3333333333333333,\n",
              "          'consolidated': 0.3333333333333333,\n",
              "          'consolidation': 0.3333333333333333,\n",
              "          'dame': 0.3333333333333333,\n",
              "          'demonstrated': 0.3333333333333333,\n",
              "          'deprivation': 0.3333333333333333,\n",
              "          'effect': 0.6666666666666666,\n",
              "          'emotional': 0.3333333333333333,\n",
              "          'exam': 0.6666666666666666,\n",
              "          'examined': 0.3333333333333333,\n",
              "          'facts': 0.3333333333333333,\n",
              "          'first': 0.3333333333333333,\n",
              "          'generation': 0.3333333333333333,\n",
              "          'give': 0.3333333333333333,\n",
              "          'habit': 0.3333333333333333,\n",
              "          'happens': 0.3333333333333333,\n",
              "          'however': 0.3333333333333333,\n",
              "          'importance': 0.3333333333333333,\n",
              "          'in.as': 0.3333333333333333,\n",
              "          'indiana': 0.3333333333333333,\n",
              "          'information': 0.3333333333333333,\n",
              "          'knowledge': 0.3333333333333333,\n",
              "          'late': 0.3333333333333333,\n",
              "          'learning': 0.3333333333333333,\n",
              "          'learnt': 0.3333333333333333,\n",
              "          'let': 0.3333333333333333,\n",
              "          'lower': 0.3333333333333333,\n",
              "          'loyola': 0.3333333333333333,\n",
              "          'marymount': 0.3333333333333333,\n",
              "          'memories': 0.6666666666666666,\n",
              "          'memorising': 0.3333333333333333,\n",
              "          'memory': 0.3333333333333333,\n",
              "          'middle-aged': 0.3333333333333333,\n",
              "          'minds': 0.3333333333333333,\n",
              "          'nap': 0.3333333333333333,\n",
              "          'napping': 0.3333333333333333,\n",
              "          'new': 0.6666666666666666,\n",
              "          'newly': 0.3333333333333333,\n",
              "          'night': 0.3333333333333333,\n",
              "          'notre': 0.3333333333333333,\n",
              "          'obtaining': 0.3333333333333333,\n",
              "          'one': 0.3333333333333333,\n",
              "          'opposite': 0.3333333333333333,\n",
              "          'overstuff': 0.3333333333333333,\n",
              "          'power': 0.3333333333333333,\n",
              "          'research': 0.3333333333333333,\n",
              "          'researchers': 0.3333333333333333,\n",
              "          'result': 0.3333333333333333,\n",
              "          'results': 0.3333333333333333,\n",
              "          'retained': 0.6666666666666666,\n",
              "          'robustly': 0.3333333333333333,\n",
              "          'said': 0.3333333333333333,\n",
              "          'sara': 0.3333333333333333,\n",
              "          'scientists': 0.3333333333333333,\n",
              "          'scores': 0.3333333333333333,\n",
              "          'seen': 0.3333333333333333,\n",
              "          'sink': 0.3333333333333333,\n",
              "          'sleep': 1.0,\n",
              "          'soon': 0.3333333333333333,\n",
              "          'staying': 0.3333333333333333,\n",
              "          'store': 0.3333333333333333,\n",
              "          'study': 0.3333333333333333,\n",
              "          'studying': 0.3333333333333333,\n",
              "          'suggested': 0.3333333333333333,\n",
              "          'suggests': 0.3333333333333333,\n",
              "          'superior': 0.3333333333333333,\n",
              "          'teenagers': 0.3333333333333333,\n",
              "          'time': 0.6666666666666666,\n",
              "          'university': 0.6666666666666666,\n",
              "          'young': 0.3333333333333333,\n",
              "          '‘': 0.3333333333333333,\n",
              "          '’': 0.3333333333333333,\n",
              "          '“': 0.3333333333333333,\n",
              "          '”': 0.3333333333333333})"
            ]
          },
          "metadata": {
            "tags": []
          },
          "execution_count": 11
        }
      ]
    },
    {
      "cell_type": "markdown",
      "metadata": {
        "id": "gwaGUt5zLtcp"
      },
      "source": [
        "Sentence Tokenization and Score for each sentences"
      ]
    },
    {
      "cell_type": "code",
      "metadata": {
        "colab": {
          "base_uri": "https://localhost:8080/"
        },
        "id": "yLe-lIy-L4pf",
        "outputId": "f0c9c2e9-8807-4c3c-d2c2-832b13074022"
      },
      "source": [
        "sentences_list=nltk.sent_tokenize(original_text)\n",
        "#sentences_list\n",
        "sentence_score={}\n",
        "for sentence in sentences_list:\n",
        "  #print(sentence)\n",
        "  for word in nltk.word_tokenize(sentence.lower()):\n",
        "    #print(word_frequency[word])\n",
        "    if sentence not in sentence_score:\n",
        "      sentence_score[sentence]=word_frequency[word]\n",
        "    else:\n",
        "      sentence_score[sentence] = sentence_score[sentence] + word_frequency[word]\n",
        "print(sentence_score)"
      ],
      "execution_count": null,
      "outputs": [
        {
          "output_type": "stream",
          "text": [
            "{'Most teenagers from this generation have the habit of staying up late, one night before the exam to overstuff their minds by memorising information.': 4.666666666666666, 'However, research in a new study suggests that doing this has the opposite effect.': 3.333333333333333, 'It does not give the brain adequate time to store the knowledge and let it sink in.As a result, sleep deprivation results in lower exam scores, according to researchers from Loyola Marymount University, California.': 9.666666666666666, 'New memories are only retained by the brain, if ‘consolidated’, which happens during sleep.': 5.333333333333333, 'Scientists have suggested that napping has the power to boost memory after studying and have examined that newly learnt facts retained better after a nap.': 5.333333333333333, '“We demonstrated the importance of obtaining sleep soon after learning for superior consolidation of emotional memories, an effect that was robustly seen across young and, for the first time, middle-aged adults.”, said Sara Alger, of Notre Dame University, Indiana.': 11.333333333333336}\n"
          ],
          "name": "stdout"
        }
      ]
    },
    {
      "cell_type": "markdown",
      "metadata": {
        "id": "l_KeQibhEXNu"
      },
      "source": [
        "ordering sentences based on their score in ASEC order"
      ]
    },
    {
      "cell_type": "code",
      "metadata": {
        "id": "iOcszUyZC0TS"
      },
      "source": [
        "import heapq\n",
        "best_sentences=heapq.nlargest(4, sentence_score,key=sentence_score.get)\n",
        "summary=''.join(best_sentences)\n"
      ],
      "execution_count": null,
      "outputs": []
    },
    {
      "cell_type": "markdown",
      "metadata": {
        "id": "UfLFxmhnE-7F"
      },
      "source": [
        "Summary"
      ]
    },
    {
      "cell_type": "code",
      "metadata": {
        "colab": {
          "base_uri": "https://localhost:8080/"
        },
        "id": "Dh_MZvunFAXd",
        "outputId": "e6ed0899-3c8b-4851-dd70-404f66ecb09e"
      },
      "source": [
        "print(summary)"
      ],
      "execution_count": null,
      "outputs": [
        {
          "output_type": "stream",
          "text": [
            "“We demonstrated the importance of obtaining sleep soon after learning for superior consolidation of emotional memories, an effect that was robustly seen across young and, for the first time, middle-aged adults.”, said Sara Alger, of Notre Dame University, Indiana.It does not give the brain adequate time to store the knowledge and let it sink in.As a result, sleep deprivation results in lower exam scores, according to researchers from Loyola Marymount University, California.New memories are only retained by the brain, if ‘consolidated’, which happens during sleep.Scientists have suggested that napping has the power to boost memory after studying and have examined that newly learnt facts retained better after a nap.\n"
          ],
          "name": "stdout"
        }
      ]
    }
  ]
}